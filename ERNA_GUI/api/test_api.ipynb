{
 "cells": [
  {
   "cell_type": "code",
   "execution_count": 4,
   "metadata": {},
   "outputs": [
    {
     "name": "stdout",
     "output_type": "stream",
     "text": [
      "argus\n",
      "List of parameters:\n",
      "{\n",
      "    \"srate\": 25000,\n",
      "    \"NPULSES_PER_BURST\": 10,\n",
      "    \"flow_cut\": 1000,\n",
      "    \"fhigh_cut\": 2,\n",
      "    \"order_low\": 4,\n",
      "    \"order_high\": 4,\n",
      "    \"flip_polarity\": true,\n",
      "    \"which_detrend\": \"linear\",\n",
      "    \"IBI_WINDOW\": {\n",
      "        \"25\": 0.025,\n",
      "        \"65\": 0.025,\n",
      "        \"130\": 0.025,\n",
      "        \"180\": 0.025\n",
      "    },\n",
      "    \"thr_pulses\": 50,\n",
      "    \"win_ipi_min\": 2.5,\n",
      "    \"num_mad_outlier\": 4,\n",
      "    \"peak_prom\": 5,\n",
      "    \"peak_width\": 12.0,\n",
      "    \"mindist_prop\": 0.25,\n",
      "    \"minpeaks\": 2,\n",
      "    \"npeaks\": 8\n",
      "}\n",
      "Annotations loaded for participant DM2001\n"
     ]
    }
   ],
   "source": [
    "\n",
    "import os\n",
    "import numpy as np\n",
    "import pandas as pd\n",
    "import json\n",
    "import hydra\n",
    "from omegaconf import DictConfig, OmegaConf\n",
    "import logging\n",
    "\n",
    "from ERNA_GUI.core.processing_DEPRECATED import (\n",
    "    load_erna_file, load_selected_file, load_erna_annots,\n",
    "    preprocess_erna, extract_pulses, extract_erna_slice,\n",
    "    compute_IPI_features, compute_IBI_features,\n",
    "    remove_zerostim, flatten_ipi_features\n",
    ")\n",
    "\n",
    "from ERNA_GUI.io.general import (\n",
    "    setup_path,\n",
    "    store_ERNAfiles_results2annot,\n",
    "    store_ERNAfiles_results2data,\n",
    "    load_ERNAfiles_results2annot,\n",
    "    load_ERNAfiles_results2data\n",
    ")\n",
    "\n",
    "from ERNA_GUI.core.utility import (\n",
    "    fetch_runschema, \n",
    "    fetch_run, \n",
    "    fetch_annot,\n",
    "    fetch_IBImatrix\n",
    ")\n",
    "\n",
    "from ERNA_GUI.viz.plotting import (\n",
    "    plot_stimChannelLocation,\n",
    "    plot_IBImatrix,\n",
    "    animate_IBIavg,\n",
    "    plot_IPIavg,\n",
    "    animate_IPIavg,\n",
    "    plot_IBIfeatures_dynamics,\n",
    "    plot_IPIfeatures_dynamics,\n",
    "    plot_continuous_data\n",
    ")\n",
    "\n",
    "from ERNA_GUI.api.ERNA import ERNAPlatformRequest\n",
    "\n",
    "ERNA = load_ERNAfiles_results2data(\"DM2001\", \"argus\")\n",
    "\n",
    "PARTICIPANT = setup_path(\"DM2001\", device= \"argus\")\n",
    "\n",
    "ERNA_ = ERNAPlatformRequest(PARTICIPANT)\n",
    "\n",
    "\n",
    "\n",
    "\n",
    "\n"
   ]
  },
  {
   "cell_type": "code",
   "execution_count": 2,
   "metadata": {},
   "outputs": [
    {
     "name": "stdout",
     "output_type": "stream",
     "text": [
      "List of possible runs:\n",
      "{'stimScan': [0, 1, 2, 3, 4, 5, 6, 7, 21, 22, 23, 24, 25, 26, 27, 28], 'ampRamp': [8, 9, 10, 11, 29, 30, 31, 32]}\n"
     ]
    }
   ],
   "source": [
    "runSchema = fetch_runschema(ERNA)\n",
    "print(\"List of possible runs:\")\n",
    "print(runSchema)\n",
    "\n",
    "IPI_annot, IBI_annot = load_ERNAfiles_results2annot(\"DM2001\",\"both\")"
   ]
  },
  {
   "cell_type": "code",
   "execution_count": 5,
   "metadata": {},
   "outputs": [
    {
     "data": {
      "text/plain": [
       "dict_keys(['0', '1', '2', '3', '4', '5', '6', '7', '8', '9', '10', '11', '21', '22', '23', '24', '25', '26', '27', '28', '29', '30', '31', '32'])"
      ]
     },
     "execution_count": 5,
     "metadata": {},
     "output_type": "execute_result"
    }
   ],
   "source": [
    "ERNA.keys()\n"
   ]
  },
  {
   "cell_type": "code",
   "execution_count": 11,
   "metadata": {},
   "outputs": [
    {
     "name": "stdout",
     "output_type": "stream",
     "text": [
      "Analyzing task: stimScan\n",
      "Fetching data...\n",
      "Extracting data and annots for run: 0 [task: stimScan], [1-16, 6.25%]\n"
     ]
    },
    {
     "ename": "KeyError",
     "evalue": "'Run'",
     "output_type": "error",
     "traceback": [
      "\u001b[0;31m---------------------------------------------------------------------------\u001b[0m",
      "\u001b[0;31mKeyError\u001b[0m                                  Traceback (most recent call last)",
      "Cell \u001b[0;32mIn[11], line 13\u001b[0m\n\u001b[1;32m     10\u001b[0m \u001b[38;5;28mprint\u001b[39m(\u001b[38;5;124mf\u001b[39m\u001b[38;5;124m\"\u001b[39m\u001b[38;5;124mExtracting data and annots for run: \u001b[39m\u001b[38;5;132;01m{\u001b[39;00mrun_id\u001b[38;5;132;01m}\u001b[39;00m\u001b[38;5;124m [task: \u001b[39m\u001b[38;5;132;01m{\u001b[39;00mtask\u001b[38;5;132;01m}\u001b[39;00m\u001b[38;5;124m], [\u001b[39m\u001b[38;5;132;01m{\u001b[39;00mi\u001b[38;5;250m \u001b[39m\u001b[38;5;241m+\u001b[39m\u001b[38;5;250m \u001b[39m\u001b[38;5;241m1\u001b[39m\u001b[38;5;132;01m}\u001b[39;00m\u001b[38;5;124m-\u001b[39m\u001b[38;5;132;01m{\u001b[39;00m\u001b[38;5;28mlen\u001b[39m(runSchema[task])\u001b[38;5;132;01m}\u001b[39;00m\u001b[38;5;124m, \u001b[39m\u001b[38;5;132;01m{\u001b[39;00m(i\u001b[38;5;241m+\u001b[39m\u001b[38;5;241m1\u001b[39m)\u001b[38;5;241m/\u001b[39m\u001b[38;5;28mlen\u001b[39m(runSchema[task])\u001b[38;5;241m*\u001b[39m\u001b[38;5;241m100\u001b[39m\u001b[38;5;132;01m:\u001b[39;00m\u001b[38;5;124m.2f\u001b[39m\u001b[38;5;132;01m}\u001b[39;00m\u001b[38;5;124m%]\u001b[39m\u001b[38;5;124m\"\u001b[39m)\n\u001b[1;32m     11\u001b[0m run_data \u001b[38;5;241m=\u001b[39m task_data[run_id]\n\u001b[0;32m---> 13\u001b[0m IBI_annot \u001b[38;5;241m=\u001b[39m \u001b[43mfetch_annot\u001b[49m\u001b[43m(\u001b[49m\u001b[43mERNA\u001b[49m\u001b[43m,\u001b[49m\u001b[43m \u001b[49m\u001b[38;5;124;43m\"\u001b[39;49m\u001b[38;5;124;43mIBI_annot\u001b[39;49m\u001b[38;5;124;43m\"\u001b[39;49m\u001b[43m,\u001b[49m\u001b[43m \u001b[49m\u001b[38;5;28;43mid\u001b[39;49m\u001b[38;5;241;43m=\u001b[39;49m\u001b[43m \u001b[49m\u001b[43mrun_id\u001b[49m\u001b[43m)\u001b[49m\n\u001b[1;32m     14\u001b[0m IPI_annot \u001b[38;5;241m=\u001b[39m fetch_annot(ERNA, \u001b[38;5;124m\"\u001b[39m\u001b[38;5;124mIPI_annot\u001b[39m\u001b[38;5;124m\"\u001b[39m, \u001b[38;5;28mid\u001b[39m \u001b[38;5;241m=\u001b[39m run_id)\n\u001b[1;32m     16\u001b[0m \u001b[38;5;28mprint\u001b[39m(\u001b[38;5;124m\"\u001b[39m\u001b[38;5;124mRun details:\u001b[39m\u001b[38;5;124m\"\u001b[39m)\n",
      "File \u001b[0;32m/Volumes/Nexus4/Users/MV1019/Tools_analysis/ERNA_GUI/ERNA_GUI/api/utility.py:37\u001b[0m, in \u001b[0;36mfetch_annot\u001b[0;34m(ERNA, which, id, task)\u001b[0m\n\u001b[1;32m     35\u001b[0m     \u001b[38;5;28;01mif\u001b[39;00m \u001b[38;5;28misinstance\u001b[39m(\u001b[38;5;28mid\u001b[39m, \u001b[38;5;28mint\u001b[39m):\n\u001b[1;32m     36\u001b[0m         \u001b[38;5;28mid\u001b[39m \u001b[38;5;241m=\u001b[39m [\u001b[38;5;28mid\u001b[39m]  \u001b[38;5;66;03m# Convert single integer to list\u001b[39;00m\n\u001b[0;32m---> 37\u001b[0m     annot \u001b[38;5;241m=\u001b[39m annot[\u001b[43mannot\u001b[49m\u001b[43m[\u001b[49m\u001b[38;5;124;43m'\u001b[39;49m\u001b[38;5;124;43mRun\u001b[39;49m\u001b[38;5;124;43m'\u001b[39;49m\u001b[43m]\u001b[49m\u001b[38;5;241m.\u001b[39misin(\u001b[38;5;28mid\u001b[39m)]  \u001b[38;5;66;03m# Filter by ids\u001b[39;00m\n\u001b[1;32m     39\u001b[0m \u001b[38;5;66;03m# Filter based on `task`\u001b[39;00m\n\u001b[1;32m     40\u001b[0m \u001b[38;5;28;01mif\u001b[39;00m task \u001b[38;5;129;01mis\u001b[39;00m \u001b[38;5;129;01mnot\u001b[39;00m \u001b[38;5;28;01mNone\u001b[39;00m:\n",
      "File \u001b[0;32m/opt/anaconda3/lib/python3.8/site-packages/pandas/core/frame.py:3761\u001b[0m, in \u001b[0;36mDataFrame.__getitem__\u001b[0;34m(self, key)\u001b[0m\n\u001b[1;32m   3759\u001b[0m \u001b[38;5;28;01mif\u001b[39;00m \u001b[38;5;28mself\u001b[39m\u001b[38;5;241m.\u001b[39mcolumns\u001b[38;5;241m.\u001b[39mnlevels \u001b[38;5;241m>\u001b[39m \u001b[38;5;241m1\u001b[39m:\n\u001b[1;32m   3760\u001b[0m     \u001b[38;5;28;01mreturn\u001b[39;00m \u001b[38;5;28mself\u001b[39m\u001b[38;5;241m.\u001b[39m_getitem_multilevel(key)\n\u001b[0;32m-> 3761\u001b[0m indexer \u001b[38;5;241m=\u001b[39m \u001b[38;5;28;43mself\u001b[39;49m\u001b[38;5;241;43m.\u001b[39;49m\u001b[43mcolumns\u001b[49m\u001b[38;5;241;43m.\u001b[39;49m\u001b[43mget_loc\u001b[49m\u001b[43m(\u001b[49m\u001b[43mkey\u001b[49m\u001b[43m)\u001b[49m\n\u001b[1;32m   3762\u001b[0m \u001b[38;5;28;01mif\u001b[39;00m is_integer(indexer):\n\u001b[1;32m   3763\u001b[0m     indexer \u001b[38;5;241m=\u001b[39m [indexer]\n",
      "File \u001b[0;32m/opt/anaconda3/lib/python3.8/site-packages/pandas/core/indexes/range.py:349\u001b[0m, in \u001b[0;36mRangeIndex.get_loc\u001b[0;34m(self, key)\u001b[0m\n\u001b[1;32m    347\u001b[0m         \u001b[38;5;28;01mraise\u001b[39;00m \u001b[38;5;167;01mKeyError\u001b[39;00m(key) \u001b[38;5;28;01mfrom\u001b[39;00m \u001b[38;5;21;01merr\u001b[39;00m\n\u001b[1;32m    348\u001b[0m \u001b[38;5;28;01mif\u001b[39;00m \u001b[38;5;28misinstance\u001b[39m(key, Hashable):\n\u001b[0;32m--> 349\u001b[0m     \u001b[38;5;28;01mraise\u001b[39;00m \u001b[38;5;167;01mKeyError\u001b[39;00m(key)\n\u001b[1;32m    350\u001b[0m \u001b[38;5;28mself\u001b[39m\u001b[38;5;241m.\u001b[39m_check_indexing_error(key)\n\u001b[1;32m    351\u001b[0m \u001b[38;5;28;01mraise\u001b[39;00m \u001b[38;5;167;01mKeyError\u001b[39;00m(key)\n",
      "\u001b[0;31mKeyError\u001b[0m: 'Run'"
     ]
    }
   ],
   "source": [
    "for task in [\"stimScan\",\"ampRamp\"]:\n",
    "    print(f\"Analyzing task: {task}\")\n",
    "\n",
    "    print(\"Fetching data...\")\n",
    "    task_data = fetch_run(ERNA,task=task)\n",
    "\n",
    "    for i, run_id in enumerate(runSchema[task]): \n",
    "        # print(run)\n",
    "        #run = runSchema[task][run_id]\n",
    "        print(f\"Extracting data and annots for run: {run_id} [task: {task}], [{i + 1}-{len(runSchema[task])}, {(i+1)/len(runSchema[task])*100:.2f}%]\")\n",
    "        run_data = task_data[run_id]\n",
    "\n",
    "        IBI_annot = fetch_annot(ERNA, \"IBI_annot\", id= run_id)\n",
    "        IPI_annot = fetch_annot(ERNA, \"IPI_annot\", id = run_id)\n",
    "\n",
    "        print(\"Run details:\")\n",
    "        run_details = run_data[\"run_details\"]\n",
    "        run_details\n",
    "        Burst_mode = run_details['Burst_mode'].values[0]\n",
    "        \n",
    "        print(\"Computing raw and location of recordings\")\n",
    "        plot_continuous_data(run_data, output_path=os.path.join(ERNA.participant_figure, 'subj-' + ERNA.participant_id + '_task-' + task + '_run-0' + str(run_id) + '_plot-continuous-argus'), show = False)\n",
    "        plot_stimChannelLocation(run_data,output_path=os.path.join(ERNA.participant_figure, 'subj-' + ERNA.participant_id + '_task-' + task + '_run-0' + str(run_id) + '_plot-3DDISTAL-StimChanLocation'), show = False)\n",
    "        \n",
    "        print(\"Computing ERNA signal during the inter-burst interval (IBI)\")\n",
    "        plot_IBImatrix(run_data,output_path=os.path.join(ERNA.participant_figure, 'subj-' + ERNA.participant_id + '_task-' + task + '_run-0' + str(run_id) + '_plot-erna-IBI'), show= False)\n",
    "        animate_IBIavg(run_data,output_path=os.path.join(ERNA.participant_figure, 'subj-' + ERNA.participant_id + '_task-' + task + '_run-0' + str(run_id) + '_animation-erna-IBI'), range_y=[-200,250], show = False)\n",
    "        \n",
    "        print(\"Computing ERNA signal during the inter-pulse interval (IPI)\")\n",
    "        if Burst_mode:\n",
    "            plot_IPIavg(run_data, output_path=os.path.join(ERNA.participant_figure, 'subj-' + ERNA.participant_id + '_task-' + task + '_run-0' + str(run_id) + '_plot-erna-IPI'), show= False)\n",
    "            animate_IPIavg(run_data,output_path=os.path.join(ERNA.participant_figure, 'subj-' + ERNA.participant_id + '_task-' + task + '_run-0' + str(run_id) + '_animation-erna-IPI'), range_y = [-100, 250], show = False)\n",
    "        else:\n",
    "            Warning(\"Burst mode is not active! Skip this step\")\n",
    "        \n",
    "        print(\"Computing IBI feature dynamics over time\")\n",
    "        plot_IBIfeatures_dynamics(IBI_annot, ref=\"time\", output_path=os.path.join(ERNA.participant_figure, 'subj-' + ERNA.participant_id + '_task-' + task + '_run-0' + str(run_id) + '_plot-erna-IBI-features'), show= False)\n",
    "        #plot_IBIfeatures_dynamics(IBI_annot, ref=\"charge\", stim_freq = run_data['run_details']['Freq'][0])\n",
    "            \n",
    "        print(\"Computing IPI feature dynamics over time\")\n",
    "        if Burst_mode:\n",
    "            plot_IPIfeatures_dynamics(IPI_annot, timescale = \"pulse\",output_path=os.path.join(ERNA.participant_figure, 'subj-' + ERNA.participant_id + '_task-' + task + '_run-0' + str(run_id) + '_plot-erna-IPI-features_timescale-pulse'), show= False)\n",
    "            plot_IPIfeatures_dynamics(IPI_annot, timescale = \"burst\", ref = \"time\",output_path=os.path.join(ERNA.participant_figure, 'subj-' + ERNA.participant_id + '_task-' + task + '_run-0' + str(run_id) + '_plot-erna-IPI-features_timescale-burst'), show= False)\n",
    "        #plot_IPIfeatures_dynamics(IPI_annot, timescale = \"burst\", ref = \"charge\", stim_freq = run_data['run_details']['Freq'][0])\n",
    "        else:\n",
    "            Warning(\"Burst mode is not active! Skip this step\")  "
   ]
  },
  {
   "cell_type": "code",
   "execution_count": null,
   "metadata": {},
   "outputs": [],
   "source": []
  },
  {
   "cell_type": "markdown",
   "metadata": {},
   "source": []
  }
 ],
 "metadata": {
  "kernelspec": {
   "display_name": "base",
   "language": "python",
   "name": "python3"
  },
  "language_info": {
   "codemirror_mode": {
    "name": "ipython",
    "version": 3
   },
   "file_extension": ".py",
   "mimetype": "text/x-python",
   "name": "python",
   "nbconvert_exporter": "python",
   "pygments_lexer": "ipython3",
   "version": "3.8.8"
  }
 },
 "nbformat": 4,
 "nbformat_minor": 2
}
